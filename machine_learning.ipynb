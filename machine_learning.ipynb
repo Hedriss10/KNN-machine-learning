{
  "nbformat": 4,
  "nbformat_minor": 0,
  "metadata": {
    "colab": {
      "provenance": [],
      "collapsed_sections": [],
      "mount_file_id": "1xscpagpzQiwFBeGFxfH84VWxEQXCLMRJ",
      "authorship_tag": "ABX9TyPpN2mo8/DMpcttg6tLnFQG",
      "include_colab_link": true
    },
    "kernelspec": {
      "name": "python3",
      "display_name": "Python 3"
    },
    "language_info": {
      "name": "python"
    }
  },
  "cells": [
    {
      "cell_type": "markdown",
      "metadata": {
        "id": "view-in-github",
        "colab_type": "text"
      },
      "source": [
        "<a href=\"https://colab.research.google.com/github/Nyckzin10/KNN-machine-learning/blob/main/machine_learning.ipynb\" target=\"_parent\"><img src=\"https://colab.research.google.com/assets/colab-badge.svg\" alt=\"Open In Colab\"/></a>"
      ]
    },
    {
      "cell_type": "markdown",
      "source": [
        "Autor: Hedris Pereira \n",
        "\n",
        "Linkedin: [Hedris Pereira](https://www.linkedin.com/in/hedriss10/)\n",
        "\n",
        "Github: [Hedris Pereira](https://github.com/Nyckzin10)\n"
      ],
      "metadata": {
        "id": "g56md6SxbA7T"
      }
    },
    {
      "cell_type": "markdown",
      "source": [
        "# Introdução\n",
        "\n",
        "*Neste pequeno projeto vamos desenvolver uma aplicação de alguns modelos de Machine learning, tais como regressão linear, kNN, decision tree, random forest e suport vector machine, em problema envolvendo pacientes com problemas cardíacos. A finalidade do projeto é prever  se um determinado paciente virá a óbito.*\n",
        "\n",
        "\n",
        "Os dados são de um artigo: David Chicco, Guispe Jurman, **Machine learning can predict survial of patients with heart failure from serum creatinine and ejection fraction alone. BMC Medical Informatics and Decision Making 20, 16(2020).**\n",
        "\n",
        "*Algumas consideração foram feitas afim de evitar alguns erros conceituais típicos para um iniciante no assunto. Mas que se não foram tratados desde já podem ser um grande problema no futuro*\n"
      ],
      "metadata": {
        "id": "rhJG6HBZb_Vi"
      }
    },
    {
      "cell_type": "markdown",
      "source": [
        "# Setup"
      ],
      "metadata": {
        "id": "ExO-L6sfdfih"
      }
    },
    {
      "cell_type": "markdown",
      "source": [
        "#### Começamos importando o pandas"
      ],
      "metadata": {
        "id": "Qp23f1XQeJzN"
      }
    },
    {
      "cell_type": "code",
      "source": [
        "import pandas as pd \n",
        "seed = 0 "
      ],
      "metadata": {
        "id": "onuAKJKybDGd"
      },
      "execution_count": null,
      "outputs": []
    },
    {
      "cell_type": "markdown",
      "source": [],
      "metadata": {
        "id": "llsLaPMxeSDO"
      }
    },
    {
      "cell_type": "markdown",
      "source": [
        "####Vamos carrega um dataset e visualizar os dados. Á uma importação dos dados presume  que o código está sendo executado no mesmo diretório que contém o arquivo.####\n",
        "* É legal visualizar o dataset para verificar um pouco á estrutura\n",
        "* Existem outras maneiras mais espertas de carrega um datasert. Poderia ser por exemplo á parti da própria internet, através de links ou http."
      ],
      "metadata": {
        "id": "pW89dXdJeTKD"
      }
    },
    {
      "cell_type": "code",
      "source": [
        "data = pd.read_csv(\"/content/drive/MyDrive/DATASCIENCE/heart_failure_clinical_records_dataset.csv\")\n",
        "data.head()"
      ],
      "metadata": {
        "colab": {
          "base_uri": "https://localhost:8080/",
          "height": 270
        },
        "id": "-H3_qzQOe8me",
        "outputId": "85526eb4-ec82-4a2f-95cf-f8092a970dba"
      },
      "execution_count": null,
      "outputs": [
        {
          "output_type": "execute_result",
          "data": {
            "text/plain": [
              "    age  anaemia  creatinine_phosphokinase  diabetes  ejection_fraction  \\\n",
              "0  75.0        0                       582         0                 20   \n",
              "1  55.0        0                      7861         0                 38   \n",
              "2  65.0        0                       146         0                 20   \n",
              "3  50.0        1                       111         0                 20   \n",
              "4  65.0        1                       160         1                 20   \n",
              "\n",
              "   high_blood_pressure  platelets  serum_creatinine  serum_sodium  sex  \\\n",
              "0                    1  265000.00               1.9           130    1   \n",
              "1                    0  263358.03               1.1           136    1   \n",
              "2                    0  162000.00               1.3           129    1   \n",
              "3                    0  210000.00               1.9           137    1   \n",
              "4                    0  327000.00               2.7           116    0   \n",
              "\n",
              "   smoking  time  DEATH_EVENT  \n",
              "0        0     4            1  \n",
              "1        0     6            1  \n",
              "2        1     7            1  \n",
              "3        0     7            1  \n",
              "4        0     8            1  "
            ],
            "text/html": [
              "\n",
              "  <div id=\"df-076dc9b2-d641-46ea-845d-b020e2ba96c0\">\n",
              "    <div class=\"colab-df-container\">\n",
              "      <div>\n",
              "<style scoped>\n",
              "    .dataframe tbody tr th:only-of-type {\n",
              "        vertical-align: middle;\n",
              "    }\n",
              "\n",
              "    .dataframe tbody tr th {\n",
              "        vertical-align: top;\n",
              "    }\n",
              "\n",
              "    .dataframe thead th {\n",
              "        text-align: right;\n",
              "    }\n",
              "</style>\n",
              "<table border=\"1\" class=\"dataframe\">\n",
              "  <thead>\n",
              "    <tr style=\"text-align: right;\">\n",
              "      <th></th>\n",
              "      <th>age</th>\n",
              "      <th>anaemia</th>\n",
              "      <th>creatinine_phosphokinase</th>\n",
              "      <th>diabetes</th>\n",
              "      <th>ejection_fraction</th>\n",
              "      <th>high_blood_pressure</th>\n",
              "      <th>platelets</th>\n",
              "      <th>serum_creatinine</th>\n",
              "      <th>serum_sodium</th>\n",
              "      <th>sex</th>\n",
              "      <th>smoking</th>\n",
              "      <th>time</th>\n",
              "      <th>DEATH_EVENT</th>\n",
              "    </tr>\n",
              "  </thead>\n",
              "  <tbody>\n",
              "    <tr>\n",
              "      <th>0</th>\n",
              "      <td>75.0</td>\n",
              "      <td>0</td>\n",
              "      <td>582</td>\n",
              "      <td>0</td>\n",
              "      <td>20</td>\n",
              "      <td>1</td>\n",
              "      <td>265000.00</td>\n",
              "      <td>1.9</td>\n",
              "      <td>130</td>\n",
              "      <td>1</td>\n",
              "      <td>0</td>\n",
              "      <td>4</td>\n",
              "      <td>1</td>\n",
              "    </tr>\n",
              "    <tr>\n",
              "      <th>1</th>\n",
              "      <td>55.0</td>\n",
              "      <td>0</td>\n",
              "      <td>7861</td>\n",
              "      <td>0</td>\n",
              "      <td>38</td>\n",
              "      <td>0</td>\n",
              "      <td>263358.03</td>\n",
              "      <td>1.1</td>\n",
              "      <td>136</td>\n",
              "      <td>1</td>\n",
              "      <td>0</td>\n",
              "      <td>6</td>\n",
              "      <td>1</td>\n",
              "    </tr>\n",
              "    <tr>\n",
              "      <th>2</th>\n",
              "      <td>65.0</td>\n",
              "      <td>0</td>\n",
              "      <td>146</td>\n",
              "      <td>0</td>\n",
              "      <td>20</td>\n",
              "      <td>0</td>\n",
              "      <td>162000.00</td>\n",
              "      <td>1.3</td>\n",
              "      <td>129</td>\n",
              "      <td>1</td>\n",
              "      <td>1</td>\n",
              "      <td>7</td>\n",
              "      <td>1</td>\n",
              "    </tr>\n",
              "    <tr>\n",
              "      <th>3</th>\n",
              "      <td>50.0</td>\n",
              "      <td>1</td>\n",
              "      <td>111</td>\n",
              "      <td>0</td>\n",
              "      <td>20</td>\n",
              "      <td>0</td>\n",
              "      <td>210000.00</td>\n",
              "      <td>1.9</td>\n",
              "      <td>137</td>\n",
              "      <td>1</td>\n",
              "      <td>0</td>\n",
              "      <td>7</td>\n",
              "      <td>1</td>\n",
              "    </tr>\n",
              "    <tr>\n",
              "      <th>4</th>\n",
              "      <td>65.0</td>\n",
              "      <td>1</td>\n",
              "      <td>160</td>\n",
              "      <td>1</td>\n",
              "      <td>20</td>\n",
              "      <td>0</td>\n",
              "      <td>327000.00</td>\n",
              "      <td>2.7</td>\n",
              "      <td>116</td>\n",
              "      <td>0</td>\n",
              "      <td>0</td>\n",
              "      <td>8</td>\n",
              "      <td>1</td>\n",
              "    </tr>\n",
              "  </tbody>\n",
              "</table>\n",
              "</div>\n",
              "      <button class=\"colab-df-convert\" onclick=\"convertToInteractive('df-076dc9b2-d641-46ea-845d-b020e2ba96c0')\"\n",
              "              title=\"Convert this dataframe to an interactive table.\"\n",
              "              style=\"display:none;\">\n",
              "        \n",
              "  <svg xmlns=\"http://www.w3.org/2000/svg\" height=\"24px\"viewBox=\"0 0 24 24\"\n",
              "       width=\"24px\">\n",
              "    <path d=\"M0 0h24v24H0V0z\" fill=\"none\"/>\n",
              "    <path d=\"M18.56 5.44l.94 2.06.94-2.06 2.06-.94-2.06-.94-.94-2.06-.94 2.06-2.06.94zm-11 1L8.5 8.5l.94-2.06 2.06-.94-2.06-.94L8.5 2.5l-.94 2.06-2.06.94zm10 10l.94 2.06.94-2.06 2.06-.94-2.06-.94-.94-2.06-.94 2.06-2.06.94z\"/><path d=\"M17.41 7.96l-1.37-1.37c-.4-.4-.92-.59-1.43-.59-.52 0-1.04.2-1.43.59L10.3 9.45l-7.72 7.72c-.78.78-.78 2.05 0 2.83L4 21.41c.39.39.9.59 1.41.59.51 0 1.02-.2 1.41-.59l7.78-7.78 2.81-2.81c.8-.78.8-2.07 0-2.86zM5.41 20L4 18.59l7.72-7.72 1.47 1.35L5.41 20z\"/>\n",
              "  </svg>\n",
              "      </button>\n",
              "      \n",
              "  <style>\n",
              "    .colab-df-container {\n",
              "      display:flex;\n",
              "      flex-wrap:wrap;\n",
              "      gap: 12px;\n",
              "    }\n",
              "\n",
              "    .colab-df-convert {\n",
              "      background-color: #E8F0FE;\n",
              "      border: none;\n",
              "      border-radius: 50%;\n",
              "      cursor: pointer;\n",
              "      display: none;\n",
              "      fill: #1967D2;\n",
              "      height: 32px;\n",
              "      padding: 0 0 0 0;\n",
              "      width: 32px;\n",
              "    }\n",
              "\n",
              "    .colab-df-convert:hover {\n",
              "      background-color: #E2EBFA;\n",
              "      box-shadow: 0px 1px 2px rgba(60, 64, 67, 0.3), 0px 1px 3px 1px rgba(60, 64, 67, 0.15);\n",
              "      fill: #174EA6;\n",
              "    }\n",
              "\n",
              "    [theme=dark] .colab-df-convert {\n",
              "      background-color: #3B4455;\n",
              "      fill: #D2E3FC;\n",
              "    }\n",
              "\n",
              "    [theme=dark] .colab-df-convert:hover {\n",
              "      background-color: #434B5C;\n",
              "      box-shadow: 0px 1px 3px 1px rgba(0, 0, 0, 0.15);\n",
              "      filter: drop-shadow(0px 1px 2px rgba(0, 0, 0, 0.3));\n",
              "      fill: #FFFFFF;\n",
              "    }\n",
              "  </style>\n",
              "\n",
              "      <script>\n",
              "        const buttonEl =\n",
              "          document.querySelector('#df-076dc9b2-d641-46ea-845d-b020e2ba96c0 button.colab-df-convert');\n",
              "        buttonEl.style.display =\n",
              "          google.colab.kernel.accessAllowed ? 'block' : 'none';\n",
              "\n",
              "        async function convertToInteractive(key) {\n",
              "          const element = document.querySelector('#df-076dc9b2-d641-46ea-845d-b020e2ba96c0');\n",
              "          const dataTable =\n",
              "            await google.colab.kernel.invokeFunction('convertToInteractive',\n",
              "                                                     [key], {});\n",
              "          if (!dataTable) return;\n",
              "\n",
              "          const docLinkHtml = 'Like what you see? Visit the ' +\n",
              "            '<a target=\"_blank\" href=https://colab.research.google.com/notebooks/data_table.ipynb>data table notebook</a>'\n",
              "            + ' to learn more about interactive tables.';\n",
              "          element.innerHTML = '';\n",
              "          dataTable['output_type'] = 'display_data';\n",
              "          await google.colab.output.renderOutput(dataTable, element);\n",
              "          const docLink = document.createElement('div');\n",
              "          docLink.innerHTML = docLinkHtml;\n",
              "          element.appendChild(docLink);\n",
              "        }\n",
              "      </script>\n",
              "    </div>\n",
              "  </div>\n",
              "  "
            ]
          },
          "metadata": {},
          "execution_count": 33
        }
      ]
    },
    {
      "cell_type": "markdown",
      "source": [
        "### Escrevendo uma matriz X e as features e no vetor Y os rótulos associados###"
      ],
      "metadata": {
        "id": "5V7wyptCf6aF"
      }
    },
    {
      "cell_type": "code",
      "source": [
        "x = data.iloc[:, 0:-1].values # features da primeira coluna\n",
        "y = data.iloc[:, -1].values # rotulo última coluna "
      ],
      "metadata": {
        "id": "gO52JFXLfovA"
      },
      "execution_count": null,
      "outputs": []
    },
    {
      "cell_type": "markdown",
      "source": [
        "Separando o cojunto de treino e test o pré-processamento, se feito no conjunto completo, não pode introduzir informação, futura no conjunto de treino. É importante salientar que se você deseja uma estimativa de erro de generalização, que é dado em termos de uma propabilidade independente do conjunto de treino, você deve usar o conjunto de teste uma única vez!"
      ],
      "metadata": {
        "id": "lCj8JcqtgXn8"
      }
    },
    {
      "cell_type": "code",
      "source": [
        "from sklearn.model_selection import train_test_split"
      ],
      "metadata": {
        "id": "xT1lYXIWg6fB"
      },
      "execution_count": null,
      "outputs": []
    },
    {
      "cell_type": "code",
      "source": [
        "x_train , X_test, y_train, Y_test= train_test_split(\n",
        "    x,\n",
        "    y,\n",
        "    test_size = 1/3,\n",
        "    random_state = seed\n",
        ")\n"
      ],
      "metadata": {
        "id": "HuBOLKLfhcev"
      },
      "execution_count": null,
      "outputs": []
    },
    {
      "cell_type": "markdown",
      "source": [
        "Separando o conjunto de treino em duas partes, uma será usada para validação. Faremos isso pois queremos treina alguns modelos e verificar quais deles é o melhor para generalizar. Dito isto, dado só devemos usar o conjunto de test uma única vez, devemos ter uma decisão de escolha do melhor modelo \"no próprio conjunto de treino\"."
      ],
      "metadata": {
        "id": "7rO9tuoiibhN"
      }
    },
    {
      "cell_type": "code",
      "source": [
        "x_train_2, x_val, y_train_2, y_val = train_test_split(\n",
        "    x_train, \n",
        "    y_train,\n",
        "    test_size = 1/3,\n",
        "    random_state= seed\n",
        ") "
      ],
      "metadata": {
        "id": "vledTu-65OmR"
      },
      "execution_count": null,
      "outputs": []
    },
    {
      "cell_type": "markdown",
      "source": [
        "*Tipicamente os algoritimos necessitam que todas as características estejam em faixas similares de intervalos, por isso a importancia de colocar todos os atributos na mesma escala*"
      ],
      "metadata": {
        "id": "uLLrKjOwDExU"
      }
    },
    {
      "cell_type": "code",
      "source": [
        "# feature Scaling: alguns algoritimos são sensiveis á escala \n",
        "from sklearn.preprocessing import MinMaxScaler\n",
        "scaler = MinMaxScaler()\n",
        "x_train_2 = scaler.fit_transform(x_train_2)\n",
        "x_val = scaler.fit_transform(x_val)"
      ],
      "metadata": {
        "id": "aSrTzh37DYxx"
      },
      "execution_count": null,
      "outputs": []
    },
    {
      "cell_type": "markdown",
      "source": [
        "Agora vamos avaliar diversos modelos para encontrar o melhor candidato. Faremos isso da maneira feia , apenas por uma questão de simplicidade, mas veremos ao longo do curso uma maneira mais elegante de procura o melhor modelo através de uma grande busca "
      ],
      "metadata": {
        "id": "rtkNq-e8D_Cf"
      }
    },
    {
      "cell_type": "code",
      "source": [
        "#Dicionário de resultados \n",
        "dic = {}"
      ],
      "metadata": {
        "id": "732JacgAE2c-"
      },
      "execution_count": null,
      "outputs": []
    },
    {
      "cell_type": "markdown",
      "source": [
        "Para comparar os resultado vamos usar a acuaricia "
      ],
      "metadata": {
        "id": "LbG_ONtwFbhC"
      }
    },
    {
      "cell_type": "code",
      "source": [
        "from sklearn.metrics import accuracy_score"
      ],
      "metadata": {
        "id": "nBcbfXO5GaJE"
      },
      "execution_count": null,
      "outputs": []
    },
    {
      "cell_type": "markdown",
      "source": [
        "## Regresão logística "
      ],
      "metadata": {
        "id": "qhF80ptKGfjt"
      }
    },
    {
      "cell_type": "code",
      "source": [
        "from sklearn.linear_model import LogisticRegression\n",
        "lr = LogisticRegression(random_state= seed)\n",
        "lr.fit(x_train_2, y_train_2)"
      ],
      "metadata": {
        "colab": {
          "base_uri": "https://localhost:8080/"
        },
        "id": "8xIS_uOkGi35",
        "outputId": "0bac88a5-3604-478e-c164-32ae7a246f12"
      },
      "execution_count": null,
      "outputs": [
        {
          "output_type": "execute_result",
          "data": {
            "text/plain": [
              "LogisticRegression(random_state=0)"
            ]
          },
          "metadata": {},
          "execution_count": 41
        }
      ]
    },
    {
      "cell_type": "code",
      "source": [
        "dic[\"Logistic_regression\"] = accuracy_score(y_val, lr.predict(x_val))"
      ],
      "metadata": {
        "id": "1lryO_nDIBur"
      },
      "execution_count": null,
      "outputs": []
    },
    {
      "cell_type": "markdown",
      "source": [
        "# KNN\n"
      ],
      "metadata": {
        "id": "8__7m7WDJR2S"
      }
    },
    {
      "cell_type": "code",
      "source": [
        "# Treinamento do knn\n",
        "from sklearn.neighbors import KNeighborsClassifier\n",
        "knn =  KNeighborsClassifier(n_neighbors= 7)\n",
        "knn.fit(x_train_2, y_train_2)"
      ],
      "metadata": {
        "colab": {
          "base_uri": "https://localhost:8080/"
        },
        "id": "zkKJ4EjgJTwC",
        "outputId": "1acd6188-5121-48c0-f24a-98295e1bad09"
      },
      "execution_count": null,
      "outputs": [
        {
          "output_type": "execute_result",
          "data": {
            "text/plain": [
              "KNeighborsClassifier(n_neighbors=7)"
            ]
          },
          "metadata": {},
          "execution_count": 43
        }
      ]
    },
    {
      "cell_type": "code",
      "source": [
        "# Avaliando o knn e anotando no dicionario\n",
        "dic[\"knn_7\"] = accuracy_score(y_val, knn.predict(x_val))"
      ],
      "metadata": {
        "id": "YBI6WDbUKHht"
      },
      "execution_count": null,
      "outputs": []
    },
    {
      "cell_type": "markdown",
      "source": [
        "# Decision Tree"
      ],
      "metadata": {
        "id": "d_z1lO42KZZ6"
      }
    },
    {
      "cell_type": "code",
      "source": [
        "from sklearn.tree import DecisionTreeClassifier\n",
        "tree =  DecisionTreeClassifier(max_depth=4, random_state= seed)\n",
        "tree.fit(x_train_2, y_train_2)"
      ],
      "metadata": {
        "colab": {
          "base_uri": "https://localhost:8080/"
        },
        "id": "yTkWouhNKbvU",
        "outputId": "a9f3393d-7bec-4c99-f139-49b8a5031071"
      },
      "execution_count": null,
      "outputs": [
        {
          "output_type": "execute_result",
          "data": {
            "text/plain": [
              "DecisionTreeClassifier(max_depth=4, random_state=0)"
            ]
          },
          "metadata": {},
          "execution_count": 45
        }
      ]
    },
    {
      "cell_type": "code",
      "source": [
        "#Analisando e colocando dentro de um dicionario \n",
        "dic[\"Decision_tree_4\"] = accuracy_score(y_val, tree.predict(x_val))"
      ],
      "metadata": {
        "id": "AajCXG4VLGel"
      },
      "execution_count": null,
      "outputs": []
    },
    {
      "cell_type": "markdown",
      "source": [
        "# Random Forest"
      ],
      "metadata": {
        "id": "cXu2FQXDLhap"
      }
    },
    {
      "cell_type": "code",
      "source": [
        "from sklearn.ensemble import RandomForestClassifier\n",
        "rf =  RandomForestClassifier(n_estimators=100,\n",
        "                             random_state=seed)"
      ],
      "metadata": {
        "id": "Lx41XSsGLjsI"
      },
      "execution_count": null,
      "outputs": []
    },
    {
      "cell_type": "code",
      "source": [
        "rf.fit(x_train_2, y_train_2)\n",
        "dic[\"Random_forest_100\"] = accuracy_score(y_val, rf.predict(x_val))"
      ],
      "metadata": {
        "id": "9TOoa2v-LzuT"
      },
      "execution_count": null,
      "outputs": []
    },
    {
      "cell_type": "markdown",
      "source": [
        "#Linear Support Vector Machine "
      ],
      "metadata": {
        "id": "O0hucO3BMGka"
      }
    },
    {
      "cell_type": "code",
      "source": [
        "from sklearn.svm import LinearSVC\n",
        "svc = LinearSVC()"
      ],
      "metadata": {
        "id": "fpLUwfO2RUVE"
      },
      "execution_count": null,
      "outputs": []
    },
    {
      "cell_type": "code",
      "source": [
        "# Avaliando o support vector machine e anotando no dicionário \n",
        "svc.fit(x_train_2, y_train_2)\n",
        "dic['SVC'] = accuracy_score(y_val, svc.predict(x_val))"
      ],
      "metadata": {
        "id": "4-k8wZ-tRdnE"
      },
      "execution_count": null,
      "outputs": []
    },
    {
      "cell_type": "markdown",
      "source": [
        "# Avaliando os modelos"
      ],
      "metadata": {
        "id": "w0bw8SCtVOc5"
      }
    },
    {
      "cell_type": "code",
      "source": [
        "validation = pd.Series(dic, name=\"Acurácia\")"
      ],
      "metadata": {
        "id": "ltJGfPG8VQzG"
      },
      "execution_count": null,
      "outputs": []
    },
    {
      "cell_type": "code",
      "source": [
        "validation"
      ],
      "metadata": {
        "colab": {
          "base_uri": "https://localhost:8080/"
        },
        "id": "O-I5hyV1VXtP",
        "outputId": "722af1b7-dd06-4e53-cf97-9e035f5c0eec"
      },
      "execution_count": null,
      "outputs": [
        {
          "output_type": "execute_result",
          "data": {
            "text/plain": [
              "Logistic_regression    0.791045\n",
              "knn_7                  0.686567\n",
              "Decision_tree_4        0.716418\n",
              "Random_forest_100      0.805970\n",
              "SVC                    0.761194\n",
              "Name: Acurácia, dtype: float64"
            ]
          },
          "metadata": {},
          "execution_count": 52
        }
      ]
    },
    {
      "cell_type": "markdown",
      "source": [
        "# Treinamento modelo final"
      ],
      "metadata": {
        "id": "2eEBoKy9WXtM"
      }
    },
    {
      "cell_type": "markdown",
      "source": [
        "*Uma vez que definimos o melhor modelo, que deverá ser decidido usando somente o conjunto de treinamento ,  podemos utilizar conjunto de teste para estimar o erro de generalização*"
      ],
      "metadata": {
        "id": "YyDDHKx6XYLD"
      }
    },
    {
      "cell_type": "code",
      "source": [
        "# Treinando o melhor no conjunto inteiro:\n",
        "scaler = MinMaxScaler()\n",
        "x_train = scaler.fit_transform(x_train)\n",
        "x_test =  scaler.transform(X_test)"
      ],
      "metadata": {
        "id": "n1huQOsjXq2M"
      },
      "execution_count": null,
      "outputs": []
    },
    {
      "cell_type": "markdown",
      "source": [
        "**Aqui você pode usar o algoritimo que demonstrou o melhor desempenho e perfomace**"
      ],
      "metadata": {
        "id": "IWVipyDaabji"
      }
    },
    {
      "cell_type": "code",
      "source": [
        "lr = LogisticRegression(random_state = seed)\n",
        "lr.fit(x_train, y_train)"
      ],
      "metadata": {
        "colab": {
          "base_uri": "https://localhost:8080/"
        },
        "id": "JsYpixCXaxv-",
        "outputId": "a9ec75a5-210e-4bcc-b9b9-5f16a2034d7d"
      },
      "execution_count": null,
      "outputs": [
        {
          "output_type": "execute_result",
          "data": {
            "text/plain": [
              "LogisticRegression(random_state=0)"
            ]
          },
          "metadata": {},
          "execution_count": 58
        }
      ]
    },
    {
      "cell_type": "code",
      "source": [
        "print(\"Acurácia Final:\", str(accuracy_score(Y_test, lr.predict(X_test))))"
      ],
      "metadata": {
        "colab": {
          "base_uri": "https://localhost:8080/"
        },
        "id": "lQ0kTcZBbNrG",
        "outputId": "3b8e9da9-ea6d-4df6-9488-d68e12d8908d"
      },
      "execution_count": null,
      "outputs": [
        {
          "output_type": "stream",
          "name": "stdout",
          "text": [
            "Acurácia Final: 0.68\n"
          ]
        }
      ]
    }
  ]
}
